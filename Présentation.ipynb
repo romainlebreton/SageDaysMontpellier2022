{
 "cells": [
  {
   "cell_type": "code",
   "execution_count": 1,
   "id": "382fe56b",
   "metadata": {
    "slideshow": {
     "slide_type": "skip"
    }
   },
   "outputs": [],
   "source": [
    "%display latex"
   ]
  },
  {
   "cell_type": "markdown",
   "id": "10fbc1ce",
   "metadata": {
    "slideshow": {
     "slide_type": "slide"
    }
   },
   "source": [
    "# Matrices Polynomiales \n",
    "\n",
    "Objet d'étude : matrices $M$ de taille $m \\times n$ à coefficients dans $k[x]$ avec $k$ un corps."
   ]
  },
  {
   "cell_type": "code",
   "execution_count": 2,
   "id": "f4bd9abb",
   "metadata": {
    "scrolled": true,
    "slideshow": {
     "slide_type": "-"
    }
   },
   "outputs": [
    {
     "data": {
      "text/html": [
       "<html>\\(\\displaystyle M= \\left(\\begin{array}{rrr}\n",
       "x^{2} + 5 x + 1 & 4 x + 3 & 6 x + 1 \\\\\n",
       "4 x & 5 x + 1 & 6 x^{2} + 2 x + 3 \\\\\n",
       "2 x^{2} + 5 x & 3 x + 1 & 6 x^{2} + 6 x + 6\n",
       "\\end{array}\\right)\\)</html>"
      ],
      "text/latex": [
       "$\\displaystyle M= \\left(\\begin{array}{rrr}\n",
       "x^{2} + 5 x + 1 & 4 x + 3 & 6 x + 1 \\\\\n",
       "4 x & 5 x + 1 & 6 x^{2} + 2 x + 3 \\\\\n",
       "2 x^{2} + 5 x & 3 x + 1 & 6 x^{2} + 6 x + 6\n",
       "\\end{array}\\right)$"
      ],
      "text/plain": [
       "M= \\left(\\begin{array}{rrr}\n",
       "x^{2} + 5 x + 1 & 4 x + 3 & 6 x + 1 \\\\\n",
       "4 x & 5 x + 1 & 6 x^{2} + 2 x + 3 \\\\\n",
       "2 x^{2} + 5 x & 3 x + 1 & 6 x^{2} + 6 x + 6\n",
       "\\end{array}\\right)"
      ]
     },
     "execution_count": 2,
     "metadata": {},
     "output_type": "execute_result"
    }
   ],
   "source": [
    "k = GF(7)\n",
    "kx.<x> = PolynomialRing(k)\n",
    "M = Matrix(kx,3,3,lambda i,j: kx.random_element(degree=(1,3)))\n",
    "\n",
    "'M=' + latex(M)"
   ]
  },
  {
   "cell_type": "markdown",
   "id": "5f0ec254-a50d-4899-ac3d-65ee81f3ca2b",
   "metadata": {
    "slideshow": {
     "slide_type": "subslide"
    }
   },
   "source": [
    "**Mon rapport à ce sujet ?**\n",
    "* Rapporteur de tickets sur `sage/matrix/matrix_polynomial_dense.pyx`\n",
    "* Lié à ma recherche:\n",
    "  * Comment calculer rapidement ?\n",
    "  * Application au décodage de codes correcteurs"
   ]
  },
  {
   "cell_type": "markdown",
   "id": "aa40299e",
   "metadata": {
    "slideshow": {
     "slide_type": "slide"
    }
   },
   "source": [
    "## Fondements mathématiques\n",
    "\n",
    "* Matrices de $k^{m \\times n} \\leftrightarrow$ Étude des $k$-espaces vectoriels\n",
    "* Matrices de $k[x]^{m \\times n} \\leftrightarrow$ Étude des $k[x]$-modules (module sur un anneau principal)\n",
    "\n",
    "**Définition:** $k[x]$-module associé $\\langle M \\rangle$: ensemble des vecteurs qui sont des combinaisons $k[x]$-linéaires des lignes de $M$"
   ]
  },
  {
   "cell_type": "code",
   "execution_count": 3,
   "id": "6a2e9c05",
   "metadata": {
    "slideshow": {
     "slide_type": "-"
    }
   },
   "outputs": [
    {
     "data": {
      "text/html": [
       "<html>\\(\\displaystyle (5) M_{0,*} + (5) M_{1,*} + (x + 5) M_{2,*} = \\left(2 x^{3} + 6 x^{2} + 5,\\,3 x^{2} + 5 x + 4,\\,6 x^{3} + 3 x^{2} + 6 x + 1\\right) = v \\in \\langle M \\rangle\\)</html>"
      ],
      "text/latex": [
       "$\\displaystyle (5) M_{0,*} + (5) M_{1,*} + (x + 5) M_{2,*} = \\left(2 x^{3} + 6 x^{2} + 5,\\,3 x^{2} + 5 x + 4,\\,6 x^{3} + 3 x^{2} + 6 x + 1\\right) = v \\in \\langle M \\rangle$"
      ],
      "text/plain": [
       "(5) M_{0,*} + (5) M_{1,*} + (x + 5) M_{2,*} = \\left(2 x^{3} + 6 x^{2} + 5,\\,3 x^{2} + 5 x + 4,\\,6 x^{3} + 3 x^{2} + 6 x + 1\\right) = v \\in \\langle M \\rangle"
      ]
     },
     "execution_count": 3,
     "metadata": {},
     "output_type": "execute_result"
    }
   ],
   "source": [
    "c = [kx.random_element(degree=(0,1)) for i in range(3)]\n",
    "v = c[0] * M.row(0) + c[1] * M.row(1) + c[2] * M.row(2)\n",
    "\n",
    "LatexExpr(f'({latex(c[0])}) M_{{0,*}} + ({latex(c[1])}) M_{{1,*}} + ({latex(c[2])}) M_{{2,*}} = {latex(v)} = v \\\\in \\\\langle M \\\\rangle')"
   ]
  },
  {
   "cell_type": "markdown",
   "id": "fb534026",
   "metadata": {
    "slideshow": {
     "slide_type": "slide"
    }
   },
   "source": [
    "**Théorie classique des modules sur un anneau principal:**\n",
    "* Forme normale de Hermite\n",
    "* Forme normale de Smith\n",
    "\n",
    "**Remarque:**\n",
    "* matrice *unimodulaire* $U$: inversible de $k[x]^{n \\times n} \\Leftrightarrow \\det(U) \\in k^\\ast$\n",
    "* $N$ base de $\\langle M \\rangle$ ssi $N = U M$ avec $U$ unimodulaire"
   ]
  },
  {
   "cell_type": "markdown",
   "id": "4c41e148",
   "metadata": {
    "slideshow": {
     "slide_type": "subslide"
    }
   },
   "source": [
    "## Forme normale de Hermite"
   ]
  },
  {
   "cell_type": "code",
   "execution_count": 4,
   "id": "c4f84178",
   "metadata": {
    "slideshow": {
     "slide_type": "-"
    }
   },
   "outputs": [
    {
     "data": {
      "text/html": [
       "<html>\\(\\displaystyle M=\\left(\\begin{array}{rrr}\n",
       "x^{2} + 5 x + 1 & 4 x + 3 & 6 x + 1 \\\\\n",
       "4 x & 5 x + 1 & 6 x^{2} + 2 x + 3 \\\\\n",
       "2 x^{2} + 5 x & 3 x + 1 & 6 x^{2} + 6 x + 6\n",
       "\\end{array}\\right), H = UM = \\left(\\begin{array}{rrr}\n",
       "1 & 0 & 3 x^{4} + x^{3} + 5 x^{2} + 1 \\\\\n",
       "0 & 1 & 3 x^{4} + 2 x^{3} + 3 x^{2} + 3 x + 4 \\\\\n",
       "0 & 0 & x^{5} + 4 x^{4} + 5 x^{3} + 2 x^{2} + 3 x + 6\n",
       "\\end{array}\\right),\\)</html>"
      ],
      "text/latex": [
       "$\\displaystyle M=\\left(\\begin{array}{rrr}\n",
       "x^{2} + 5 x + 1 & 4 x + 3 & 6 x + 1 \\\\\n",
       "4 x & 5 x + 1 & 6 x^{2} + 2 x + 3 \\\\\n",
       "2 x^{2} + 5 x & 3 x + 1 & 6 x^{2} + 6 x + 6\n",
       "\\end{array}\\right), H = UM = \\left(\\begin{array}{rrr}\n",
       "1 & 0 & 3 x^{4} + x^{3} + 5 x^{2} + 1 \\\\\n",
       "0 & 1 & 3 x^{4} + 2 x^{3} + 3 x^{2} + 3 x + 4 \\\\\n",
       "0 & 0 & x^{5} + 4 x^{4} + 5 x^{3} + 2 x^{2} + 3 x + 6\n",
       "\\end{array}\\right),$"
      ],
      "text/plain": [
       "M=\\left(\\begin{array}{rrr}\n",
       "x^{2} + 5 x + 1 & 4 x + 3 & 6 x + 1 \\\\\n",
       "4 x & 5 x + 1 & 6 x^{2} + 2 x + 3 \\\\\n",
       "2 x^{2} + 5 x & 3 x + 1 & 6 x^{2} + 6 x + 6\n",
       "\\end{array}\\right), H = UM = \\left(\\begin{array}{rrr}\n",
       "1 & 0 & 3 x^{4} + x^{3} + 5 x^{2} + 1 \\\\\n",
       "0 & 1 & 3 x^{4} + 2 x^{3} + 3 x^{2} + 3 x + 4 \\\\\n",
       "0 & 0 & x^{5} + 4 x^{4} + 5 x^{3} + 2 x^{2} + 3 x + 6\n",
       "\\end{array}\\right),"
      ]
     },
     "metadata": {},
     "output_type": "display_data"
    },
    {
     "data": {
      "text/html": [
       "<html>\\(\\displaystyle U=\\left(\\begin{array}{rrr}\n",
       "3 x^{2} + 4 x + 1 & 2 x^{2} + 6 x + 1 & 2 x^{2} + 6 x + 3 \\\\\n",
       "3 x^{2} + 5 x & 2 x^{2} + 2 x + 3 & 2 x^{2} + 2 x + 5 \\\\\n",
       "x^{3} + 5 x^{2} + 5 x & 3 x^{3} + 6 x^{2} + 5 & 3 x^{3} + 6 x^{2} + 3 x + 2\n",
       "\\end{array}\\right)\\)</html>"
      ],
      "text/latex": [
       "$\\displaystyle U=\\left(\\begin{array}{rrr}\n",
       "3 x^{2} + 4 x + 1 & 2 x^{2} + 6 x + 1 & 2 x^{2} + 6 x + 3 \\\\\n",
       "3 x^{2} + 5 x & 2 x^{2} + 2 x + 3 & 2 x^{2} + 2 x + 5 \\\\\n",
       "x^{3} + 5 x^{2} + 5 x & 3 x^{3} + 6 x^{2} + 5 & 3 x^{3} + 6 x^{2} + 3 x + 2\n",
       "\\end{array}\\right)$"
      ],
      "text/plain": [
       "U=\\left(\\begin{array}{rrr}\n",
       "3 x^{2} + 4 x + 1 & 2 x^{2} + 6 x + 1 & 2 x^{2} + 6 x + 3 \\\\\n",
       "3 x^{2} + 5 x & 2 x^{2} + 2 x + 3 & 2 x^{2} + 2 x + 5 \\\\\n",
       "x^{3} + 5 x^{2} + 5 x & 3 x^{3} + 6 x^{2} + 5 & 3 x^{3} + 6 x^{2} + 3 x + 2\n",
       "\\end{array}\\right)"
      ]
     },
     "metadata": {},
     "output_type": "display_data"
    }
   ],
   "source": [
    "H, U = M.hermite_form(transformation=True)\n",
    "pretty_print(LatexExpr(f'M={latex(M)}, H = UM = {latex(H)},'))\n",
    "pretty_print(LatexExpr(f'U={latex(U)}'))"
   ]
  },
  {
   "cell_type": "markdown",
   "id": "7c31cbb5",
   "metadata": {
    "slideshow": {
     "slide_type": "subslide"
    }
   },
   "source": [
    "Hermite utile pour:\n",
    "* Élimination: e.g. $\\langle M \\rangle \\cap (0,k[x],k[x]) = \\left\\langle \\left(\\begin{array}{rr}\n",
    "x + 6 & x^{4} + 3 x^{2} + 2 x + 1 \\\\\n",
    "0 & x^{6} + 6 x^{5} + 5 x^{4} + x^{3} + 6 x^{2} + x + 3\n",
    "\\end{array}\\right) \\right\\rangle$\n",
    "* Tester appartenance $v\\in \\langle M \\rangle$ et inclusion $\\langle M \\rangle \\subseteq \\langle M' \\rangle$\n",
    "* Résoudre des systèmes linéaires sur $k[x]$ (ou diophantiens sur $\\mathbb{Z}$):"
   ]
  },
  {
   "cell_type": "code",
   "execution_count": 5,
   "id": "f32c61b2-6857-48cc-a61c-e28661ad6d57",
   "metadata": {
    "slideshow": {
     "slide_type": "subslide"
    }
   },
   "outputs": [
    {
     "data": {
      "text/html": [
       "<html>\\(\\displaystyle v = \\left(x^{3} + 2 x^{2} + 2 x,\\,x^{2} + 3 x + 5,\\,6 x^{3} + 5 x^{2} + 4 x + 2\\right)\\)</html>"
      ],
      "text/latex": [
       "$\\displaystyle v = \\left(x^{3} + 2 x^{2} + 2 x,\\,x^{2} + 3 x + 5,\\,6 x^{3} + 5 x^{2} + 4 x + 2\\right)$"
      ],
      "text/plain": [
       "v = \\left(x^{3} + 2 x^{2} + 2 x,\\,x^{2} + 3 x + 5,\\,6 x^{3} + 5 x^{2} + 4 x + 2\\right)"
      ]
     },
     "metadata": {},
     "output_type": "display_data"
    },
    {
     "data": {
      "text/html": [
       "<html>\\(\\displaystyle v - (v_0 // H_{0,0}) H_{0,*} = \\left(0,\\,x^{2} + 3 x + 5,\\,4 x^{7} + x^{5} + 2 x^{4} + 2 x^{3} + 3 x^{2} + 2 x + 2\\right) \\rightarrow v'\\)</html>"
      ],
      "text/latex": [
       "$\\displaystyle v - (v_0 // H_{0,0}) H_{0,*} = \\left(0,\\,x^{2} + 3 x + 5,\\,4 x^{7} + x^{5} + 2 x^{4} + 2 x^{3} + 3 x^{2} + 2 x + 2\\right) \\rightarrow v'$"
      ],
      "text/plain": [
       "v - (v_0 // H_{0,0}) H_{0,*} = \\left(0,\\,x^{2} + 3 x + 5,\\,4 x^{7} + x^{5} + 2 x^{4} + 2 x^{3} + 3 x^{2} + 2 x + 2\\right) \\rightarrow v'"
      ]
     },
     "metadata": {},
     "output_type": "display_data"
    },
    {
     "data": {
      "text/html": [
       "<html>\\(\\displaystyle v' - (v'_1 // H_{1,1}) H_{1,*} = \\left(0,\\,0,\\,4 x^{7} + 4 x^{6} + 4 x^{5} + 6 x^{4} + x^{3} + 3 x^{2} + 3 x + 3\\right) \\rightarrow v''\\)</html>"
      ],
      "text/latex": [
       "$\\displaystyle v' - (v'_1 // H_{1,1}) H_{1,*} = \\left(0,\\,0,\\,4 x^{7} + 4 x^{6} + 4 x^{5} + 6 x^{4} + x^{3} + 3 x^{2} + 3 x + 3\\right) \\rightarrow v''$"
      ],
      "text/plain": [
       "v' - (v'_1 // H_{1,1}) H_{1,*} = \\left(0,\\,0,\\,4 x^{7} + 4 x^{6} + 4 x^{5} + 6 x^{4} + x^{3} + 3 x^{2} + 3 x + 3\\right) \\rightarrow v''"
      ]
     },
     "metadata": {},
     "output_type": "display_data"
    },
    {
     "data": {
      "text/html": [
       "<html>\\(\\displaystyle v'' - (v''_2 // H_{2,2}) H_{2,*} = \\left(0,\\,0,\\,0\\right)\\)</html>"
      ],
      "text/latex": [
       "$\\displaystyle v'' - (v''_2 // H_{2,2}) H_{2,*} = \\left(0,\\,0,\\,0\\right)$"
      ],
      "text/plain": [
       "v'' - (v''_2 // H_{2,2}) H_{2,*} = \\left(0,\\,0,\\,0\\right)"
      ]
     },
     "metadata": {},
     "output_type": "display_data"
    }
   ],
   "source": [
    "v = Matrix(1,3,lambda i,j: kx.random_element(degree=1)) * M\n",
    "v = v.row(0)\n",
    "pretty_print(LatexExpr(f'v = {latex(v)}'))\n",
    "\n",
    "vp = v - (v[0]//H[0,0]) * H.row(0)\n",
    "pretty_print(LatexExpr(f'v - (v_0 // H_{{0,0}}) H_{{0,*}} = {latex(vp)} \\\\rightarrow v\\''))\n",
    "\n",
    "vpp = vp - vp[1]//H[1,1] * H.row(1)\n",
    "pretty_print(LatexExpr(f'v\\' - (v\\'_1 // H_{{1,1}}) H_{{1,*}} = {latex(vpp)} \\\\rightarrow v\\'\\''))\n",
    "\n",
    "vppp = vpp - vpp[2]//H[2,2] * H.row(2)\n",
    "pretty_print(LatexExpr(f'v\\'\\' - (v\\'\\'_2 // H_{{2,2}}) H_{{2,*}} = {latex(vppp)}'))"
   ]
  },
  {
   "cell_type": "markdown",
   "id": "eee1dc96",
   "metadata": {
    "slideshow": {
     "slide_type": "slide"
    },
    "tags": []
   },
   "source": [
    "## Forme normale de Smith"
   ]
  },
  {
   "cell_type": "code",
   "execution_count": 6,
   "id": "dc0dba36",
   "metadata": {
    "slideshow": {
     "slide_type": "-"
    }
   },
   "outputs": [
    {
     "data": {
      "text/html": [
       "<html>\\(\\displaystyle M=\\left(\\begin{array}{rrr}\n",
       "x^{2} + 5 x + 1 & 4 x + 3 & 6 x + 1 \\\\\n",
       "4 x & 5 x + 1 & 6 x^{2} + 2 x + 3 \\\\\n",
       "2 x^{2} + 5 x & 3 x + 1 & 6 x^{2} + 6 x + 6\n",
       "\\end{array}\\right), S = UMV = \\left(\\begin{array}{rrr}\n",
       "1 & 0 & 0 \\\\\n",
       "0 & 1 & 0 \\\\\n",
       "0 & 0 & 4 x^{5} + 2 x^{4} + 6 x^{3} + x^{2} + 5 x + 3\n",
       "\\end{array}\\right)\\)</html>"
      ],
      "text/latex": [
       "$\\displaystyle M=\\left(\\begin{array}{rrr}\n",
       "x^{2} + 5 x + 1 & 4 x + 3 & 6 x + 1 \\\\\n",
       "4 x & 5 x + 1 & 6 x^{2} + 2 x + 3 \\\\\n",
       "2 x^{2} + 5 x & 3 x + 1 & 6 x^{2} + 6 x + 6\n",
       "\\end{array}\\right), S = UMV = \\left(\\begin{array}{rrr}\n",
       "1 & 0 & 0 \\\\\n",
       "0 & 1 & 0 \\\\\n",
       "0 & 0 & 4 x^{5} + 2 x^{4} + 6 x^{3} + x^{2} + 5 x + 3\n",
       "\\end{array}\\right)$"
      ],
      "text/plain": [
       "M=\\left(\\begin{array}{rrr}\n",
       "x^{2} + 5 x + 1 & 4 x + 3 & 6 x + 1 \\\\\n",
       "4 x & 5 x + 1 & 6 x^{2} + 2 x + 3 \\\\\n",
       "2 x^{2} + 5 x & 3 x + 1 & 6 x^{2} + 6 x + 6\n",
       "\\end{array}\\right), S = UMV = \\left(\\begin{array}{rrr}\n",
       "1 & 0 & 0 \\\\\n",
       "0 & 1 & 0 \\\\\n",
       "0 & 0 & 4 x^{5} + 2 x^{4} + 6 x^{3} + x^{2} + 5 x + 3\n",
       "\\end{array}\\right)"
      ]
     },
     "metadata": {},
     "output_type": "display_data"
    },
    {
     "data": {
      "text/html": [
       "<html>\\(\\displaystyle U=\\left(\\begin{array}{rrr}\n",
       "1 & 5 x + 4 & 0 \\\\\n",
       "3 x^{2} + 5 x & 2 x^{2} + 2 x + 3 & 2 x^{2} + 2 x + 5 \\\\\n",
       "4 x^{3} + 6 x^{2} + 6 x & 5 x^{3} + 3 x^{2} + 6 & 5 x^{3} + 3 x^{2} + 5 x + 1\n",
       "\\end{array}\\right)\\)</html>"
      ],
      "text/latex": [
       "$\\displaystyle U=\\left(\\begin{array}{rrr}\n",
       "1 & 5 x + 4 & 0 \\\\\n",
       "3 x^{2} + 5 x & 2 x^{2} + 2 x + 3 & 2 x^{2} + 2 x + 5 \\\\\n",
       "4 x^{3} + 6 x^{2} + 6 x & 5 x^{3} + 3 x^{2} + 6 & 5 x^{3} + 3 x^{2} + 5 x + 1\n",
       "\\end{array}\\right)$"
      ],
      "text/plain": [
       "U=\\left(\\begin{array}{rrr}\n",
       "1 & 5 x + 4 & 0 \\\\\n",
       "3 x^{2} + 5 x & 2 x^{2} + 2 x + 3 & 2 x^{2} + 2 x + 5 \\\\\n",
       "4 x^{3} + 6 x^{2} + 6 x & 5 x^{3} + 3 x^{2} + 6 & 5 x^{3} + 3 x^{2} + 5 x + 1\n",
       "\\end{array}\\right)"
      ]
     },
     "metadata": {},
     "output_type": "display_data"
    },
    {
     "data": {
      "text/html": [
       "<html>\\(\\displaystyle V=\\left(\\begin{array}{rrr}\n",
       "1 & 3 x^{2} + 6 x & 5 x^{6} + 4 x^{5} + 6 x^{3} + 6 x^{2} + 3 x + 1 \\\\\n",
       "0 & 1 & 4 x^{4} + 5 x^{3} + 4 x^{2} + 4 x + 3 \\\\\n",
       "0 & 0 & 1\n",
       "\\end{array}\\right)\\)</html>"
      ],
      "text/latex": [
       "$\\displaystyle V=\\left(\\begin{array}{rrr}\n",
       "1 & 3 x^{2} + 6 x & 5 x^{6} + 4 x^{5} + 6 x^{3} + 6 x^{2} + 3 x + 1 \\\\\n",
       "0 & 1 & 4 x^{4} + 5 x^{3} + 4 x^{2} + 4 x + 3 \\\\\n",
       "0 & 0 & 1\n",
       "\\end{array}\\right)$"
      ],
      "text/plain": [
       "V=\\left(\\begin{array}{rrr}\n",
       "1 & 3 x^{2} + 6 x & 5 x^{6} + 4 x^{5} + 6 x^{3} + 6 x^{2} + 3 x + 1 \\\\\n",
       "0 & 1 & 4 x^{4} + 5 x^{3} + 4 x^{2} + 4 x + 3 \\\\\n",
       "0 & 0 & 1\n",
       "\\end{array}\\right)"
      ]
     },
     "metadata": {},
     "output_type": "display_data"
    }
   ],
   "source": [
    "S, U, V = M.smith_form(transformation=True)\n",
    "pretty_print(LatexExpr(f'M={latex(M)}, S = UMV = {latex(S)}'))\n",
    "pretty_print(LatexExpr(f'U={latex(U)}'))\n",
    "pretty_print(LatexExpr(f'V={latex(V)}'))"
   ]
  },
  {
   "cell_type": "markdown",
   "id": "12c0e8cf",
   "metadata": {
    "slideshow": {
     "slide_type": "subslide"
    }
   },
   "source": [
    "Smith utile pour:\n",
    "* preuve algorithmique du théorème de la base adaptée:  \n",
    "  Dans la base $V$ de $k[x]^n$, on a $\\langle M \\rangle \\simeq S_{1,1} k[x] \\oplus S_{2,2} k[x] \\oplus S_{3,3} k[x]$\n",
    "* Invariants de similitude d'une matrice de $m \\in k^{n \\times n}$:  \n",
    "  Égaux aux invariants de Smith de $(x Id - m) \\in k[x]^{n \\times n}$\n",
    "* Calcul d'homologie $\\mathbb{Z}^k \\rightarrow_A \\mathbb{Z}^m \\rightarrow_B \\mathbb{Z}^n$ (voir par ex. ce [lien](https://www.matem.unam.mx/~omar/mathX27/smith-form.html))"
   ]
  },
  {
   "cell_type": "markdown",
   "id": "09411b32",
   "metadata": {
    "slideshow": {
     "slide_type": "slide"
    },
    "tags": []
   },
   "source": [
    "## Cet exposé : forme réduite / forme de Popov\n",
    "\n",
    "Calculer une *base réduite* $R \\in k[x]^{m \\times n}$ de $\\langle M \\rangle$,  \n",
    "*i.e.* telle que les degrés des lignes de $R$ sont minimales parmi toutes les bases"
   ]
  },
  {
   "cell_type": "code",
   "execution_count": 7,
   "id": "c5ffe779",
   "metadata": {
    "slideshow": {
     "slide_type": "subslide"
    }
   },
   "outputs": [
    {
     "data": {
      "text/html": [
       "<html>\\(\\displaystyle M=\\left(\\begin{array}{rr}\n",
       "5 x^{3} + 3 x^{2} + 3 x + 5 & 3 x^{3} + 6 x^{2} + 5 x + 1 \\\\\n",
       "6 x^{2} + 3 x + 4 & 2 x^{3} + 2 x^{2} + 6 \\\\\n",
       "x + 6 & 4 x + 3\n",
       "\\end{array}\\right) \\rightarrow_{réduction} R=UM=\\left(\\begin{array}{rr}\n",
       "3 x + 2 & 6 \\\\\n",
       "6 & 3 \\\\\n",
       "0 & 0\n",
       "\\end{array}\\right)\\)</html>"
      ],
      "text/latex": [
       "$\\displaystyle M=\\left(\\begin{array}{rr}\n",
       "5 x^{3} + 3 x^{2} + 3 x + 5 & 3 x^{3} + 6 x^{2} + 5 x + 1 \\\\\n",
       "6 x^{2} + 3 x + 4 & 2 x^{3} + 2 x^{2} + 6 \\\\\n",
       "x + 6 & 4 x + 3\n",
       "\\end{array}\\right) \\rightarrow_{réduction} R=UM=\\left(\\begin{array}{rr}\n",
       "3 x + 2 & 6 \\\\\n",
       "6 & 3 \\\\\n",
       "0 & 0\n",
       "\\end{array}\\right)$"
      ],
      "text/plain": [
       "M=\\left(\\begin{array}{rr}\n",
       "5 x^{3} + 3 x^{2} + 3 x + 5 & 3 x^{3} + 6 x^{2} + 5 x + 1 \\\\\n",
       "6 x^{2} + 3 x + 4 & 2 x^{3} + 2 x^{2} + 6 \\\\\n",
       "x + 6 & 4 x + 3\n",
       "\\end{array}\\right) \\rightarrow_{réduction} R=UM=\\left(\\begin{array}{rr}\n",
       "3 x + 2 & 6 \\\\\n",
       "6 & 3 \\\\\n",
       "0 & 0\n",
       "\\end{array}\\right)"
      ]
     },
     "metadata": {},
     "output_type": "display_data"
    },
    {
     "data": {
      "text/html": [
       "<html>\\(\\displaystyle U=\\left(\\begin{array}{rrr}\n",
       "4 x + 1 & 6 x + 6 & x^{3} + 4 x^{2} + 5 x + 6 \\\\\n",
       "x^{2} + 4 x + 5 & 5 x^{2} + x + 1 & 2 x^{4} + 5 x^{3} + 2 x + 2 \\\\\n",
       "x^{3} + 3 x^{2} + x + 2 & 5 x^{3} + 3 x^{2} + 6 & 2 x^{5} + 3 x^{4} + 2 x^{3} + 2 x^{2} + 6\n",
       "\\end{array}\\right)\\)</html>"
      ],
      "text/latex": [
       "$\\displaystyle U=\\left(\\begin{array}{rrr}\n",
       "4 x + 1 & 6 x + 6 & x^{3} + 4 x^{2} + 5 x + 6 \\\\\n",
       "x^{2} + 4 x + 5 & 5 x^{2} + x + 1 & 2 x^{4} + 5 x^{3} + 2 x + 2 \\\\\n",
       "x^{3} + 3 x^{2} + x + 2 & 5 x^{3} + 3 x^{2} + 6 & 2 x^{5} + 3 x^{4} + 2 x^{3} + 2 x^{2} + 6\n",
       "\\end{array}\\right)$"
      ],
      "text/plain": [
       "U=\\left(\\begin{array}{rrr}\n",
       "4 x + 1 & 6 x + 6 & x^{3} + 4 x^{2} + 5 x + 6 \\\\\n",
       "x^{2} + 4 x + 5 & 5 x^{2} + x + 1 & 2 x^{4} + 5 x^{3} + 2 x + 2 \\\\\n",
       "x^{3} + 3 x^{2} + x + 2 & 5 x^{3} + 3 x^{2} + 6 & 2 x^{5} + 3 x^{4} + 2 x^{3} + 2 x^{2} + 6\n",
       "\\end{array}\\right)"
      ]
     },
     "metadata": {},
     "output_type": "display_data"
    }
   ],
   "source": [
    "M = Matrix(kx,3,2,[\n",
    "[5*x^3 + 3*x^2 + 3*x + 5, 3*x^3 + 6*x^2 + 5*x + 1],\n",
    "[        6*x^2 + 3*x + 4,       2*x^3 + 2*x^2 + 6],\n",
    "[                  x + 6,                 4*x + 3]])\n",
    "\n",
    "R, U = M.weak_popov_form(ordered=True, transformation = True)\n",
    "pretty_print(LatexExpr(f'M={latex(M)} \\\\rightarrow_{{réduction}} R=UM={latex(R)}'))\n",
    "pretty_print(LatexExpr(f'U={latex(U)}'))"
   ]
  },
  {
   "cell_type": "markdown",
   "id": "4ca5fa58",
   "metadata": {
    "slideshow": {
     "slide_type": "subslide"
    }
   },
   "source": [
    "### Intérêt de la base réduite\n",
    "\n",
    "* Représentation compacte du $k[x]$-module $\\langle M \\rangle$\n",
    "* Algorithmique rapide\n",
    "* Réduire les autres opérations à des bases réduites (?)\n",
    "  * formes normales de Hermite / Smith\n",
    "  * forme normale de Popov\n",
    "  * déterminant\n",
    "  * résolution de systèmes linéaires\n",
    "  * calcul d'un vecteur court (petit degré)\n",
    "* Applications\n",
    "  * Théorie du contrôle, systèmes linéaires dynamiques [Kailath '80]\n",
    "  * Décodage de codes correcteurs d'erreurs  "
   ]
  },
  {
   "cell_type": "code",
   "execution_count": 8,
   "id": "5aabc475",
   "metadata": {
    "slideshow": {
     "slide_type": "skip"
    }
   },
   "outputs": [],
   "source": [
    "def argmax(list):\n",
    "    l = len(list)\n",
    "    index = -1\n",
    "    currentMax = -1\n",
    "    for i in range(l):\n",
    "        if (list[i] >= currentMax):\n",
    "            currentMax = list[i]\n",
    "            index = i\n",
    "    return index\n",
    "\n",
    "def latex_pivots(M):\n",
    "    m,n = M.dimensions()\n",
    "    begin = r'\\left(\\begin{array}{'\n",
    "    for i in range(n):\n",
    "        begin += 'r'\n",
    "    begin += '}\\n'\n",
    "\n",
    "    corps = ''\n",
    "    for i in range(m):\n",
    "        pivot_index = argmax([M[i,j].degree() for j in range(n)])\n",
    "        for j in range(n-1):\n",
    "            if (j == pivot_index):\n",
    "                corps += r' \\color{{red}}{{[{}]}} &'.format(M[i,j].degree())\n",
    "            else:\n",
    "                corps += r' [{}] &'.format(M[i,j].degree())\n",
    "\n",
    "        j=n-1\n",
    "        if (j == pivot_index):\n",
    "            corps += r' \\color{{red}}{{[{}]}} \\\\ '.format(M[i,j].degree())\n",
    "        else:\n",
    "            corps += r' [{}] \\\\'.format(M[i,j].degree())\n",
    "    \n",
    "    end = r'\\end{array}\\right)'\n",
    "\n",
    "    return begin + corps + end"
   ]
  },
  {
   "cell_type": "code",
   "execution_count": 9,
   "id": "e78c6381",
   "metadata": {
    "slideshow": {
     "slide_type": "skip"
    }
   },
   "outputs": [],
   "source": [
    "def add_multiple_of_row_c(M, i, j, s, start_col):\n",
    "    for c in range(start_col,M.ncols()):\n",
    "        M[i,c] = M[i,c] + s*M[j,c]        \n",
    "\n",
    "def _weak_popov_form_step(M_in, transformation=False):\n",
    "    M = M_in.__copy__()\n",
    "    m, n = M.dimensions()\n",
    "\n",
    "    R = M.base_ring()\n",
    "    one = R.one()\n",
    "    \n",
    "    Mlist = [M_in]\n",
    "    transformationList = []\n",
    "\n",
    "    # initialise to_row and conflicts list\n",
    "    to_row = [[] for i in range(n)]\n",
    "    conflicts = []\n",
    "    for i in range(m):\n",
    "        bestp = -1\n",
    "        best = -1\n",
    "        for c in range(n):\n",
    "            d = M[i,c].degree()\n",
    "\n",
    "            if d >= best:\n",
    "                bestp = c\n",
    "                best = d\n",
    "\n",
    "        if best >= 0:\n",
    "            to_row[bestp].append((i,best))\n",
    "            if len(to_row[bestp]) > 1:\n",
    "                conflicts.append(bestp)\n",
    "\n",
    "    # while there is a conflict, do a simple transformation\n",
    "    while conflicts:\n",
    "        c = conflicts.pop()\n",
    "        row = to_row[c]\n",
    "        i,ideg = row.pop()\n",
    "        j,jdeg = row.pop()\n",
    "\n",
    "        if jdeg > ideg:\n",
    "            i,j = j,i\n",
    "            ideg,jdeg = jdeg,ideg\n",
    "\n",
    "        coeff = - M[i,c].lc() / M[j,c].lc()\n",
    "        s = coeff * one.shift(ideg - jdeg)\n",
    "\n",
    "        add_multiple_of_row_c(M,i, j, s, 0)\n",
    "        \n",
    "        Mlist.append(M.__copy__())\n",
    "        transformationList.append([i,j,s])\n",
    "\n",
    "        row.append((j,jdeg))\n",
    "\n",
    "        bestp = -1\n",
    "        best = -1\n",
    "        for c in range(n):\n",
    "            d = M[i,c].degree()\n",
    "\n",
    "            if d >= best:\n",
    "                bestp = c\n",
    "                best = d\n",
    "\n",
    "        if best >= 0:\n",
    "            to_row[bestp].append((i,best))\n",
    "            if len(to_row[bestp]) > 1:\n",
    "                conflicts.append(bestp)\n",
    "\n",
    "    return Mlist, transformationList"
   ]
  },
  {
   "cell_type": "markdown",
   "id": "3be1a13f",
   "metadata": {
    "slideshow": {
     "slide_type": "slide"
    }
   },
   "source": [
    "### Idée de l'algorithme\n",
    "* Pivot d'une ligne de $M$: Coefficient de plus haut degré le plus à droite\n",
    "* Si 2 lignes ont un pivot sur la même colonne, on peut réduire une ligne par rapport à une autre\n",
    "* Réduire : \n",
    "  * soit déplacer le pivot d'une ligne plus à gauche\n",
    "  * soit baisser le degré maximal de la ligne\n",
    "* *Forme de Popov faible* quand il n'y a plus de réductions possibles\n",
    "  * Chaque pivot sur une colonne différente\n",
    "  * Presque une forme normale $\\leadsto$ forme normale de Popov (degré dans une colonne $<$ degré du pivot)\n",
    "* Lien avec les bases de Gröbner sur $k[x]^n$:\n",
    "  * Forme de Popov $\\simeq$ base de Gröbner réduite (pour un ordre du degré)\n",
    "  * Forme de Popov faible $\\simeq$ base de Gröbner (non réduite)\n",
    "  * Forme de Hermite $\\simeq$ base de Gröbner réduite (pour un ordre d'élimination)"
   ]
  },
  {
   "cell_type": "code",
   "execution_count": 10,
   "id": "00a9ded2-7174-4838-bfd1-2c5d2497faab",
   "metadata": {},
   "outputs": [
    {
     "data": {
      "application/vnd.jupyter.widget-view+json": {
       "model_id": "8f102c9b94c44189a41967bc474893ab",
       "version_major": 2,
       "version_minor": 0
      },
      "text/plain": [
       "Interactive function <function g at 0x7fc2d07d0160> with 1 widget\n",
       "  k: Dropdown(description='k', options=(0, 1…"
      ]
     },
     "metadata": {},
     "output_type": "display_data"
    }
   ],
   "source": [
    "Ms, reductions = _weak_popov_form_step(M)\n",
    "\n",
    "@interact\n",
    "def g(k=range(len(reductions))):\n",
    "    red = reductions[k]\n",
    "    Mfrom = Ms[k]\n",
    "    Mto = Ms[k+1]\n",
    "    l = LatexExpr(latex_pivots(Mfrom))\n",
    "    l += LatexExpr(f'\\\\xrightarrow{{ M_{{{red[0]}}} \\\\leftarrow M_{{{red[0]}}} - ({latex(red[2])}) M_{{{red[1]}}} }}')\n",
    "    l += LatexExpr(latex_pivots(Mto))\n",
    "    pretty_print(l)"
   ]
  },
  {
   "cell_type": "markdown",
   "id": "32db36ef",
   "metadata": {
    "slideshow": {
     "slide_type": "slide"
    }
   },
   "source": [
    "### Lien avec l'algorithme du pgcd"
   ]
  },
  {
   "cell_type": "code",
   "execution_count": 14,
   "id": "7bd0e6f6-abcf-4462-93df-184764a1a0fc",
   "metadata": {},
   "outputs": [
    {
     "data": {
      "application/vnd.jupyter.widget-view+json": {
       "model_id": "2b5f41af88934b97a675b61df868400d",
       "version_major": 2,
       "version_minor": 0
      },
      "text/plain": [
       "Interactive function <function g at 0x7fc2d082c040> with 1 widget\n",
       "  k: Dropdown(description='k', options=(0, 1…"
      ]
     },
     "metadata": {},
     "output_type": "display_data"
    }
   ],
   "source": [
    "N = Matrix(kx,2,1,lambda i,j: kx.random_element(degree=5))\n",
    "Ns, reductions2 = _weak_popov_form_step(N)\n",
    "\n",
    "@interact\n",
    "def g(k=range(len(reductions2))):\n",
    "    red = reductions2[k]\n",
    "    Mfrom = Ns[k]\n",
    "    Mto = Ns[k+1]\n",
    "    l = LatexExpr(latex(Mfrom))\n",
    "    l += LatexExpr(f'\\\\xrightarrow{{ M_{{{red[0]}}} \\\\leftarrow M_{{{red[0]}}} - ({latex(red[2])}) M_{{{red[1]}}} }}')\n",
    "    l += LatexExpr(latex(Mto))\n",
    "    pretty_print(l)"
   ]
  },
  {
   "cell_type": "markdown",
   "id": "c40233c6",
   "metadata": {
    "slideshow": {
     "slide_type": "slide"
    }
   },
   "source": [
    "### Application: pgcd de matrices dans $k[x]^{n \\times n}$\n",
    "\n",
    "Propriétés de $G = \\textrm{left_gcd}(M,N)$:\n",
    "* Il existe $U,V \\in k[x]^{n \\times n}$ telles que $U M + V N = G$\n",
    "* $G$ divise (à gauche) $M$ et $N$ :\n",
    "  * Il existe $C_1, C_2 \\in k[x]^{n \\times n}$ telles que $C_1 G = M$ et $C_2 G = N$\n",
    "    "
   ]
  },
  {
   "cell_type": "code",
   "execution_count": 39,
   "id": "ead58bfb-4dcd-4a89-91e2-9e94763ecb10",
   "metadata": {
    "tags": []
   },
   "outputs": [
    {
     "data": {
      "text/html": [
       "<html>\\(\\displaystyle G = \\left(\\begin{array}{rr}\n",
       "1 & 6 \\\\\n",
       "2 & 0\n",
       "\\end{array}\\right)\\)</html>"
      ],
      "text/latex": [
       "$\\displaystyle G = \\left(\\begin{array}{rr}\n",
       "1 & 6 \\\\\n",
       "2 & 0\n",
       "\\end{array}\\right)$"
      ],
      "text/plain": [
       "G = \\left(\\begin{array}{rr}\n",
       "1 & 6 \\\\\n",
       "2 & 0\n",
       "\\end{array}\\right)"
      ]
     },
     "metadata": {},
     "output_type": "display_data"
    },
    {
     "data": {
      "text/html": [
       "<html>\\(\\displaystyle \\left(\\begin{array}{rr}\n",
       "0 & 6 x^{2} + 3 x + 1 \\\\\n",
       "0 & 4 x + 2\n",
       "\\end{array}\\right) M + \\left(\\begin{array}{rr}\n",
       "6 x^{3} + 5 x^{2} + 4 & 6 x^{3} + 2 x^{2} + 4 x \\\\\n",
       "4 x^{2} + x + 4 & 4 x^{2} + 6 x + 2\n",
       "\\end{array}\\right) N = G\\)</html>"
      ],
      "text/latex": [
       "$\\displaystyle \\left(\\begin{array}{rr}\n",
       "0 & 6 x^{2} + 3 x + 1 \\\\\n",
       "0 & 4 x + 2\n",
       "\\end{array}\\right) M + \\left(\\begin{array}{rr}\n",
       "6 x^{3} + 5 x^{2} + 4 & 6 x^{3} + 2 x^{2} + 4 x \\\\\n",
       "4 x^{2} + x + 4 & 4 x^{2} + 6 x + 2\n",
       "\\end{array}\\right) N = G$"
      ],
      "text/plain": [
       "\\left(\\begin{array}{rr}\n",
       "0 & 6 x^{2} + 3 x + 1 \\\\\n",
       "0 & 4 x + 2\n",
       "\\end{array}\\right) M + \\left(\\begin{array}{rr}\n",
       "6 x^{3} + 5 x^{2} + 4 & 6 x^{3} + 2 x^{2} + 4 x \\\\\n",
       "4 x^{2} + x + 4 & 4 x^{2} + 6 x + 2\n",
       "\\end{array}\\right) N = G"
      ]
     },
     "metadata": {},
     "output_type": "display_data"
    }
   ],
   "source": [
    "n = 2\n",
    "M = Matrix(kx,n,n,lambda i,j: kx.random_element(degree=2))\n",
    "N = Matrix(kx,n,n,lambda i,j: kx.random_element(degree=2))\n",
    "\n",
    "G, T = M.stack(N).weak_popov_form(transformation=True)\n",
    "G = G[0:n]\n",
    "U = T[0:n,0:n]\n",
    "V = T[0:n,n:2*n] \n",
    "\n",
    "pretty_print(LatexExpr(f'G = {latex(G)}'))\n",
    "pretty_print(LatexExpr(f'{latex(U)} M + {latex(V)} N = G'))"
   ]
  },
  {
   "cell_type": "code",
   "execution_count": 41,
   "id": "eedf0352-d3c9-4185-b754-5767fe5b83e6",
   "metadata": {},
   "outputs": [
    {
     "data": {
      "text/html": [
       "<html>\\(\\displaystyle \\left(\\begin{array}{rr}\n",
       "3 x^{2} + 3 x & 3 x^{2} + 3 x + 5 \\\\\n",
       "4 x^{2} + x + 4 & 6 x^{2} + 6 x + 3\n",
       "\\end{array}\\right) G = M\\)</html>"
      ],
      "text/latex": [
       "$\\displaystyle \\left(\\begin{array}{rr}\n",
       "3 x^{2} + 3 x & 3 x^{2} + 3 x + 5 \\\\\n",
       "4 x^{2} + x + 4 & 6 x^{2} + 6 x + 3\n",
       "\\end{array}\\right) G = M$"
      ],
      "text/plain": [
       "\\left(\\begin{array}{rr}\n",
       "3 x^{2} + 3 x & 3 x^{2} + 3 x + 5 \\\\\n",
       "4 x^{2} + x + 4 & 6 x^{2} + 6 x + 3\n",
       "\\end{array}\\right) G = M"
      ]
     },
     "metadata": {},
     "output_type": "display_data"
    },
    {
     "data": {
      "text/html": [
       "<html>\\(\\displaystyle \\left(\\begin{array}{rr}\n",
       "5 x^{2} + x + 1 & 5 x^{2} + 6 x + 1 \\\\\n",
       "2 x^{2} + 3 x + 1 & 2 x^{2} + 3 x + 6\n",
       "\\end{array}\\right) G = N\\)</html>"
      ],
      "text/latex": [
       "$\\displaystyle \\left(\\begin{array}{rr}\n",
       "5 x^{2} + x + 1 & 5 x^{2} + 6 x + 1 \\\\\n",
       "2 x^{2} + 3 x + 1 & 2 x^{2} + 3 x + 6\n",
       "\\end{array}\\right) G = N$"
      ],
      "text/plain": [
       "\\left(\\begin{array}{rr}\n",
       "5 x^{2} + x + 1 & 5 x^{2} + 6 x + 1 \\\\\n",
       "2 x^{2} + 3 x + 1 & 2 x^{2} + 3 x + 6\n",
       "\\end{array}\\right) G = N"
      ]
     },
     "metadata": {},
     "output_type": "display_data"
    }
   ],
   "source": [
    "C = T^(-1)\n",
    "C1 = C[0:n,0:n]\n",
    "C2 = C[n:2*n,0:n]\n",
    "C1 * G == M\n",
    "C2 * G == N\n",
    "\n",
    "pretty_print(LatexExpr(f'{latex(C1)} G = M'))\n",
    "pretty_print(LatexExpr(f'{latex(C2)} G = N'))"
   ]
  },
  {
   "cell_type": "markdown",
   "id": "55afe3c2-2b0a-4318-98bb-12a44ee16d14",
   "metadata": {},
   "source": [
    "### Application au décodage de codes correcteurs\n",
    "\n",
    "*Codes de Reed-Solomon:*\n",
    "\n",
    "Si \n",
    "* $\\alpha_1,\\dots,\\alpha_n$ sont les points d'évaluation\n",
    "* $(C(\\alpha_1),\\dots,C(\\alpha_n))$ est le mot de code transmis pour $C\\in k[x]_{<k}$\n",
    "* $(R(\\alpha_1),\\dots,R(\\alpha_n))$ est le mot de code transmis pour $R\\in k[x]_{<n}$\n",
    "* $\\Lambda=\\prod_{i\\in E} (x-\\alpha_i)$ est le polynôme locateur des erreurs de transmission\n",
    "* le nombre d'erreur est \"petit\" $(\\le (n-k)/2)$\n",
    "\n",
    "Alors\n",
    "* On peut construire un réseau $\\mathcal{R} \\in k[x]^2$ à partir de $R$\n",
    "* Le plus court vecteur de $\\mathcal{R}$ est $(\\Lambda, \\Lambda C) \\rightsquigarrow$ **Décodage**"
   ]
  },
  {
   "cell_type": "markdown",
   "id": "252ee6d7-499e-4d6f-8dc4-cf8f82222440",
   "metadata": {},
   "source": [
    "\n",
    "**Application au décodage de codes correcteurs**\n",
    "\n",
    "*Codes de Reed-Solomon entrelacés:*\n",
    "\n",
    "Si \n",
    "* $\\alpha_1,\\dots,\\alpha_n$ sont les points d'évaluation\n",
    "* $(\\bar{C}(\\alpha_1),\\dots,\\bar{C}(\\alpha_n))$ est le mot de code transmis pour $\\bar{C} = (C_1,\\dots,C_\\ell) \\in k[x]_{<k}^\\ell$\n",
    "* $(\\bar{R}(\\alpha_1),\\dots,\\bar{R}(\\alpha_n))$ est le mot de code transmis pour $\\bar{R}\\in k[x]_{<n}^\\ell$\n",
    "* $\\Lambda=\\prod_{i\\in E} (x-\\alpha_i)$ est le polynôme locateur des erreurs de transmission\n",
    "* le nombre d'erreur est \"petit\" $(\\le \\ell(n-k)/(\\ell+1))$\n",
    "\n",
    "Alors\n",
    "* On peut construire un réseau $\\mathcal{R} \\in k[x]^{(\\ell+1)}$ à partir de $\\bar{R}$\n",
    "* Le plus court vecteur de $\\mathcal{R}$ est $(\\Lambda, \\Lambda \\bar{C}) \\rightsquigarrow$ **Décodage**"
   ]
  },
  {
   "cell_type": "markdown",
   "id": "4ad9588b",
   "metadata": {
    "slideshow": {
     "slide_type": "slide"
    },
    "tags": []
   },
   "source": [
    "## Algorithmique efficace dans $k[x]^{m \\times n}$\n",
    "*Source:* HDR Pascal Giorgi\n",
    "![PolynomialMatrixReduction](PM.png)\n"
   ]
  },
  {
   "cell_type": "markdown",
   "id": "cebcd47d",
   "metadata": {
    "slideshow": {
     "slide_type": "slide"
    }
   },
   "source": [
    "## Dans Sage ?\n",
    "\n",
    "`sage/matrix/matrix_polynomial_dense.pyx`\n",
    "\n",
    "Auteurs: Vincent Neiger, Johan Rosenkilde, Kwankyu Lee\n",
    "\n",
    "Fonctions de calculs:\n",
    "  - weak_popov_form\n",
    "  - popov_form -> gros du travail avec un appel à weak_popov_form\n",
    "  - reduced_form -> weak_popov_form\n",
    "  - hermite_form -> hermite_form_euclidean ?\n",
    "  - left_quo_rem \n",
    "    (Réduction par un k[x]-module)\n",
    "    (généralisation de la division euclidienne par reverse, cf _right_quo_rem_reduced)\n",
    "  - minimal_approximant_basis -> _approximant_basis_iterative\n",
    "  - minimal_kernel_basis\n",
    "  \n",
    "Fonctions de vérification:\n",
    "  - is_reduced\n",
    "  - is_weak_popov\n",
    "  - is_popov\n",
    "  - is_hermite\n",
    "  - is_minimal_approximant_basis\n",
    "  - is_minimal_kernel_basis"
   ]
  },
  {
   "cell_type": "code",
   "execution_count": null,
   "id": "e47ce767-3a0b-4194-9a8a-7096c11786eb",
   "metadata": {},
   "outputs": [],
   "source": []
  }
 ],
 "metadata": {
  "celltoolbar": "Diaporama",
  "kernelspec": {
   "display_name": "SageMath 9.6",
   "language": "sage",
   "name": "sagemath"
  },
  "language_info": {
   "codemirror_mode": {
    "name": "ipython",
    "version": 3
   },
   "file_extension": ".py",
   "mimetype": "text/x-python",
   "name": "python",
   "nbconvert_exporter": "python",
   "pygments_lexer": "ipython3",
   "version": "3.9.7"
  }
 },
 "nbformat": 4,
 "nbformat_minor": 5
}
